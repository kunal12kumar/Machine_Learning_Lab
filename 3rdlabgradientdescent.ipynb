{
 "cells": [
  {
   "cell_type": "code",
   "execution_count": 2,
   "id": "1409a0d9-e572-4d42-8272-d7d6353ef381",
   "metadata": {},
   "outputs": [],
   "source": [
    "import numpy as np\n",
    "import matplotlib.pyplot as plt\n",
    "import math"
   ]
  },
  {
   "cell_type": "code",
   "execution_count": 3,
   "id": "f592a2bb-9b81-4c00-b783-ba3674b6e1b0",
   "metadata": {},
   "outputs": [],
   "source": [
    "x_price= np.array([1.0 ,2.0 , 3.0 ,4.0 ])\n",
    "y_size= np.array([300.0, 500.0 ,700.0 ,900.0])"
   ]
  },
  {
   "cell_type": "code",
   "execution_count": 5,
   "id": "4be7fcc9-9c22-4c29-b43f-509961caf35c",
   "metadata": {},
   "outputs": [],
   "source": [
    "# to train the model\n",
    "# let w=0.5 and b=200\n",
    "w=0.5\n",
    "b=200.0\n",
    "# intializing the value of parameters\n",
    "# defining the model\n"
   ]
  },
  {
   "cell_type": "code",
   "execution_count": null,
   "id": "2d7a247b-8758-497d-a102-dcac7e9e9067",
   "metadata": {},
   "outputs": [],
   "source": [
    "# defining the cost function \n",
    "x_price= np.array([1.0 ,2.0 , 3.0 ,4.0 ])\n",
    "y_size= np.array([300.0, 500.0 ,700.0 ,900.0])\n",
    "w=0.5\n",
    "b=200.0\n",
    "# creating a error fuction\n",
    "error=0\n",
    "\n",
    "m=x_price.shape[0]\n",
    "# defining the cost fuction \n",
    "def calculatecostfunction(x_price, y_size ,w ,b, m):\n",
    "    for i in range(m):\n",
    "        yhat=w*x_price[i] - b\n",
    "        current_error=(yhat - y_size[i])**2\n",
    "        error= error + current_error\n",
    "    cost_function=1/2m*(error)\n",
    "    print(cost_function)\n",
    "    return cost_function\n",
    "\n",
    "\n",
    "\n",
    "# defining gradient \n",
    "def gradient_descendent(\n",
    "        \n",
    "        \n",
    "        \n",
    "        \n",
    "    \n",
    "    "
   ]
  }
 ],
 "metadata": {
  "kernelspec": {
   "display_name": "Python 3 (ipykernel)",
   "language": "python",
   "name": "python3"
  },
  "language_info": {
   "codemirror_mode": {
    "name": "ipython",
    "version": 3
   },
   "file_extension": ".py",
   "mimetype": "text/x-python",
   "name": "python",
   "nbconvert_exporter": "python",
   "pygments_lexer": "ipython3",
   "version": "3.12.4"
  }
 },
 "nbformat": 4,
 "nbformat_minor": 5
}
