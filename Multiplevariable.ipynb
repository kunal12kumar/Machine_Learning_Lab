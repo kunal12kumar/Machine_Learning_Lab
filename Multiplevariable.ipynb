{
 "cells": [
  {
   "cell_type": "code",
   "execution_count": 3,
   "id": "730bd01a-d385-4b73-9783-c2aaafdf0ce7",
   "metadata": {},
   "outputs": [],
   "source": [
    "import numpy as np\n",
    "import matplotlib.pyplot as plt\n",
    "import math"
   ]
  },
  {
   "cell_type": "code",
   "execution_count": 13,
   "id": "bb1d7dde-0ef0-4998-995a-17c580e8ba31",
   "metadata": {},
   "outputs": [
    {
     "name": "stdout",
     "output_type": "stream",
     "text": [
      "3\n",
      "459.9999976194083\n",
      "5.667216819864136e-12\n",
      "5.667216819864136e-12\n",
      "231.9999983694081\n",
      "2.6588299318664548e-12\n",
      "8.32604675173059e-12\n",
      "177.99999898940825\n",
      "1.0212956758674144e-12\n",
      "9.347342427598005e-12\n",
      " cost function using multiple features is 1.5578904045996674e-12\n"
     ]
    }
   ],
   "source": [
    "# creating the arrray of multiple features\n",
    "X_train = np.array([[2104, 5, 1, 45], [1416, 3, 2, 40], [852, 2, 1, 35]])\n",
    "y_train = np.array([460, 232, 178])\n",
    "\n",
    "\n",
    "# creating parameters variables array\n",
    "b_init = 785.1811367994083\n",
    "w_init = np.array([ 0.39133535, 18.75376741, -53.36032453, -26.42131618])\n",
    "\n",
    "# initializing cost function with func=0\n",
    "\n",
    "\n",
    "# creating multiple variables cost function \n",
    "def calculatemultiplecostfunction(x ,y , w ,b):\n",
    "    func=0\n",
    "\n",
    "    # creating model fuction \n",
    "    # for running loop\n",
    "    m=X_train.shape[0]\n",
    "    print(m)\n",
    "    for i in range(m):\n",
    "        # initializing y hat\n",
    "        yhat=np.dot(w_init,X_train[i]) -b\n",
    "        print(yhat)\n",
    "        error=(yhat-y_train[i])**2\n",
    "        print(error)\n",
    "        func=func+error\n",
    "        print(func)\n",
    "    costfun=(func)/(2*m)\n",
    "    return costfun\n",
    "\n",
    "costfunction=calculatemultiplecostfunction(X_train,y_train,w_init ,b_init)\n",
    "\n",
    "print(f\" cost function using multiple features is {costfunction}\")\n",
    "\n",
    "\n",
    "\n",
    "\n",
    "\n",
    "        \n",
    "        \n",
    "    \n"
   ]
  },
  {
   "cell_type": "code",
   "execution_count": null,
   "id": "503c64aa-1a7a-48d8-82ff-8bbb40171e29",
   "metadata": {},
   "outputs": [],
   "source": [
    "# creating the arrray of multiple features\n",
    "X_train = np.array([[2104, 5, 1, 45], [1416, 3, 2, 40], [852, 2, 1, 35]])\n",
    "y_train = np.array([460, 232, 178])\n",
    "\n",
    "\n",
    "# creating parameters variables array\n",
    "b_init = 785.1811367994083\n",
    "w_init = np.array([ 0.39133535, 18.75376741, -53.36032453, -26.42131618])\n",
    "\n",
    "# function to calculate the gradient descendent using multiple variables\n",
    "\n",
    "def calculategradientdescent(X_train, y_train , w_init ,b_init):\n",
    "    func=0\n",
    "    m=X_train.shape[0]\n",
    "    for i in range(m):\n",
    "        # initializing y hat \n",
    "        yhat=np.dot(w_init , X_train[i]) -b\n",
    "        print(yhat)\n",
    "        error=(yhat-y_init)*X_train[i]\n",
    "        func=func + error\n",
    "        \n",
    "\n"
   ]
  }
 ],
 "metadata": {
  "kernelspec": {
   "display_name": "Python 3 (ipykernel)",
   "language": "python",
   "name": "python3"
  },
  "language_info": {
   "codemirror_mode": {
    "name": "ipython",
    "version": 3
   },
   "file_extension": ".py",
   "mimetype": "text/x-python",
   "name": "python",
   "nbconvert_exporter": "python",
   "pygments_lexer": "ipython3",
   "version": "3.12.4"
  }
 },
 "nbformat": 4,
 "nbformat_minor": 5
}
